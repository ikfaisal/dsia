{
  "nbformat": 4,
  "nbformat_minor": 0,
  "metadata": {
    "colab": {
      "name": "Numpy01.ipynb",
      "version": "0.3.2",
      "provenance": [],
      "include_colab_link": true
    },
    "kernelspec": {
      "display_name": "Python 3",
      "language": "python",
      "name": "python3"
    }
  },
  "cells": [
    {
      "cell_type": "markdown",
      "metadata": {
        "id": "view-in-github",
        "colab_type": "text"
      },
      "source": [
        "<a href=\"https://colab.research.google.com/github/ikfaisal/dsia/blob/master/Numpy01.ipynb\" target=\"_parent\"><img src=\"https://colab.research.google.com/assets/colab-badge.svg\" alt=\"Open In Colab\"/></a>"
      ]
    },
    {
      "metadata": {
        "id": "6v4X9aDpRxRn",
        "colab_type": "text"
      },
      "cell_type": "markdown",
      "source": [
        "# Numpy exploration"
      ]
    },
    {
      "metadata": {
        "id": "hefHy7RERxRp",
        "colab_type": "code",
        "colab": {}
      },
      "cell_type": "code",
      "source": [
        "import numpy as np\n",
        "import matplotlib.pyplot as plt\n",
        "import matplotlib\n",
        "# get matplot to show charts inline\n",
        "%matplotlib inline"
      ],
      "execution_count": 0,
      "outputs": []
    },
    {
      "metadata": {
        "id": "hW87a--DRxRu",
        "colab_type": "code",
        "colab": {}
      },
      "cell_type": "code",
      "source": [
        "height= np.round( np.random.normal(1.75, 0.20, 7000), 2)\n",
        "weight= np.round( np.random.normal(60.32, 15, 7000), 2)\n",
        "population=np.column_stack((height, weight))"
      ],
      "execution_count": 0,
      "outputs": []
    },
    {
      "metadata": {
        "id": "wCfiqF95RxR1",
        "colab_type": "code",
        "colab": {},
        "outputId": "0a73d95f-6e79-4c5d-9d9d-c8701facfa8b"
      },
      "cell_type": "code",
      "source": [
        "print('height:\\n',height)\n",
        "print('weight:\\n',weight)\n",
        "print('population:\\n',population)"
      ],
      "execution_count": 0,
      "outputs": [
        {
          "output_type": "stream",
          "text": [
            "height:\n",
            " [1.8  2.02 1.73 ... 1.84 1.88 1.78]\n",
            "weight:\n",
            " [44.63 71.03 36.25 ... 68.82 63.55 79.09]\n",
            "population:\n",
            " [[ 1.8  44.63]\n",
            " [ 2.02 71.03]\n",
            " [ 1.73 36.25]\n",
            " ...\n",
            " [ 1.84 68.82]\n",
            " [ 1.88 63.55]\n",
            " [ 1.78 79.09]]\n"
          ],
          "name": "stdout"
        }
      ]
    },
    {
      "metadata": {
        "id": "En4DJ0HYRxSF",
        "colab_type": "code",
        "colab": {},
        "outputId": "d1257545-348a-4eaf-986a-d640feca917b"
      },
      "cell_type": "code",
      "source": [
        "print('np.ndim(height) :',np.ndim(height))\n",
        "print('np.ndim(weight) :',np.ndim(weight))\n",
        "print('np.ndim(population) :',np.ndim(population))"
      ],
      "execution_count": 0,
      "outputs": [
        {
          "output_type": "stream",
          "text": [
            "np.ndim(height) : 1\n",
            "np.ndim(weight) : 1\n",
            "np.ndim(weight) : 2\n"
          ],
          "name": "stdout"
        }
      ]
    },
    {
      "metadata": {
        "id": "LDYdPdckRxSQ",
        "colab_type": "code",
        "colab": {},
        "outputId": "2eab422c-e70d-4654-cc7c-6fc5a5adff89"
      },
      "cell_type": "code",
      "source": [
        "print('np.shape(height) :',np.shape(height))\n",
        "print('np.shape(weight) :',np.shape(weight))\n",
        "print('np.shape(population) :',np.shape(population))"
      ],
      "execution_count": 0,
      "outputs": [
        {
          "output_type": "stream",
          "text": [
            "np.shape(height) : (7000,)\n",
            "np.shape(weight) : (7000,)\n",
            "np.shape(weight) : (7000, 2)\n"
          ],
          "name": "stdout"
        }
      ]
    },
    {
      "metadata": {
        "id": "aXmyrQKPRxSZ",
        "colab_type": "code",
        "colab": {},
        "outputId": "34d2f4e9-e880-41c2-b44c-cfab6e080ec1"
      },
      "cell_type": "code",
      "source": [
        "print('np.size(height) :',np.size(height))\n",
        "print('np.size(weight) :',np.size(weight))\n",
        "print('np.size(population) :',np.size(population))"
      ],
      "execution_count": 0,
      "outputs": [
        {
          "output_type": "stream",
          "text": [
            "np.size(height) : 7000\n",
            "np.size(weight) : 7000\n",
            "np.size(weight) : 14000\n"
          ],
          "name": "stdout"
        }
      ]
    },
    {
      "metadata": {
        "id": "zizGm4IbRxSf",
        "colab_type": "code",
        "colab": {},
        "outputId": "fe252180-74c4-4955-ada1-ad55e19eefc5"
      },
      "cell_type": "code",
      "source": [
        "print('height.itemsize :',height.itemsize)\n",
        "print('weight.itemsize :',weight.itemsize)\n",
        "print('population.itemsize :',population.itemsize)"
      ],
      "execution_count": 0,
      "outputs": [
        {
          "output_type": "stream",
          "text": [
            "height.itemsize : 8\n",
            "weight.itemsize : 8\n",
            "population.itemsize : 8\n"
          ],
          "name": "stdout"
        }
      ]
    },
    {
      "metadata": {
        "id": "ZQY_2ODbRxSm",
        "colab_type": "code",
        "colab": {},
        "outputId": "d4e681b9-a183-4304-ea25-7f0dcf139a5b"
      },
      "cell_type": "code",
      "source": [
        "print('height.data :',height.data)\n",
        "print('weight.data :',weight.data)\n",
        "print('population.data :',population.data)"
      ],
      "execution_count": 0,
      "outputs": [
        {
          "output_type": "stream",
          "text": [
            "height.data : <memory at 0x10eb41408>\n",
            "weight.data : <memory at 0x10eb41408>\n",
            "population.data : <memory at 0x10ea01480>\n"
          ],
          "name": "stdout"
        }
      ]
    },
    {
      "metadata": {
        "id": "GfEJaDO9RxSu",
        "colab_type": "code",
        "colab": {},
        "outputId": "84afda7c-140a-44a7-96bf-28c9a017bedb"
      },
      "cell_type": "code",
      "source": [
        "print('height.min() :',height.min())\n",
        "print('weight.min() :',weight.min())\n",
        "print('population.min() :',population.min())"
      ],
      "execution_count": 0,
      "outputs": [
        {
          "output_type": "stream",
          "text": [
            "height.min : 1.0\n",
            "weight.min : 3.24\n",
            "population.min : 1.0\n"
          ],
          "name": "stdout"
        }
      ]
    },
    {
      "metadata": {
        "id": "spYRhWOVRxS5",
        "colab_type": "code",
        "colab": {},
        "outputId": "9c6db23b-2989-4a59-8a2b-373205b51391"
      },
      "cell_type": "code",
      "source": [
        "print('height.max() :',height.max())\n",
        "print('weight.max() :',weight.max())\n",
        "print('population.max() :',population.max())"
      ],
      "execution_count": 0,
      "outputs": [
        {
          "output_type": "stream",
          "text": [
            "height.max() : 2.51\n",
            "weight.max() : 132.17\n",
            "population.max() : 132.17\n"
          ],
          "name": "stdout"
        }
      ]
    },
    {
      "metadata": {
        "id": "AseVB71fRxS-",
        "colab_type": "code",
        "colab": {},
        "outputId": "62f52883-88db-4c12-fb56-90ab9660c0fe"
      },
      "cell_type": "code",
      "source": [
        "print('height.mean() :',height.mean())\n",
        "print('weight.mean() :',weight.mean())\n",
        "print('population.mean() :',population.mean())"
      ],
      "execution_count": 0,
      "outputs": [
        {
          "output_type": "stream",
          "text": [
            "height.mean() : 1.7456842857142856\n",
            "weight.mean() : 60.28713571428572\n",
            "population.mean() : 31.01641\n"
          ],
          "name": "stdout"
        }
      ]
    },
    {
      "metadata": {
        "id": "sYZD0IOFRxTD",
        "colab_type": "code",
        "colab": {},
        "outputId": "45e15a5d-f1e1-4400-8624-eb47ac0386b8"
      },
      "cell_type": "code",
      "source": [
        "print('height.std() :',height.std())\n",
        "print('weight.std() :',weight.std())\n",
        "print('population.std() :',population.std())"
      ],
      "execution_count": 0,
      "outputs": [
        {
          "output_type": "stream",
          "text": [
            "height.std() : 0.1981923748970856\n",
            "weight.std() : 14.821310711612284\n",
            "population.std() : 31.090684288943482\n"
          ],
          "name": "stdout"
        }
      ]
    },
    {
      "metadata": {
        "id": "LTlWoKK6RxTH",
        "colab_type": "code",
        "colab": {},
        "outputId": "0b9f271c-c63d-4417-a459-39413a796cd9"
      },
      "cell_type": "code",
      "source": [
        "print('height.sum() :',height.sum())\n",
        "print('weight.sum() :',weight.sum())\n",
        "print('population.sum() :',population.sum())"
      ],
      "execution_count": 0,
      "outputs": [
        {
          "output_type": "stream",
          "text": [
            "height.sum() : 12219.789999999999\n",
            "weight.sum() : 422009.95\n",
            "population.sum() : 434229.74\n"
          ],
          "name": "stdout"
        }
      ]
    },
    {
      "metadata": {
        "id": "k4bFHfL-RxTO",
        "colab_type": "code",
        "colab": {},
        "outputId": "1db9f5f9-091d-46fa-cdfd-804b6cddb346"
      },
      "cell_type": "code",
      "source": [
        "num_bins = 50\n",
        "n, bins, patches = plt.hist(height, num_bins, facecolor='blue', alpha=0.5)\n",
        "plt.show()"
      ],
      "execution_count": 0,
      "outputs": [
        {
          "output_type": "display_data",
          "data": {
            "image/png": "[encoded data removed]",
            "text/plain": [
              "<Figure size 432x288 with 1 Axes>"
            ]
          },
          "metadata": {
            "tags": []
          }
        }
      ]
    },
    {
      "metadata": {
        "id": "8RiYM5iDRxTR",
        "colab_type": "code",
        "colab": {},
        "outputId": "2400e813-81e3-4903-fd55-d002da81287d"
      },
      "cell_type": "code",
      "source": [
        "num_bins = 50\n",
        "n, bins, patches = plt.hist(weight, num_bins, facecolor='blue', alpha=0.5)\n",
        "plt.show()"
      ],
      "execution_count": 0,
      "outputs": [
        {
          "output_type": "display_data",
          "data": {
            "image/png": "[encoded data removed]",
            "text/plain": [
              "<Figure size 432x288 with 1 Axes>"
            ]
          },
          "metadata": {
            "tags": []
          }
        }
      ]
    },
    {
      "metadata": {
        "id": "8D-5CTH7RxTV",
        "colab_type": "code",
        "colab": {},
        "outputId": "ce2f87c6-8ff7-4f7d-faf4-7ccf406aee17"
      },
      "cell_type": "code",
      "source": [
        "plt.boxplot(height)\n",
        "plt.yscale('linear')\n",
        "plt.grid(b=True, which='major', color='b', linestyle='-')\n",
        "plt.grid(b=True, which='minor', color='r', linestyle='--')\n",
        "plt.show()"
      ],
      "execution_count": 0,
      "outputs": [
        {
          "output_type": "display_data",
          "data": {
            "image/png": "[encoded data removed]",
            "text/plain": [
              "<Figure size 432x288 with 1 Axes>"
            ]
          },
          "metadata": {
            "tags": []
          }
        }
      ]
    },
    {
      "metadata": {
        "id": "3LRe4aGARxTX",
        "colab_type": "code",
        "colab": {},
        "outputId": "aca87331-f978-4ee4-ec1a-ad90049607cb"
      },
      "cell_type": "code",
      "source": [
        "matplotlib.style.use('ggplot')\n",
        "plt.scatter(height, weight)\n",
        "plt.show()"
      ],
      "execution_count": 0,
      "outputs": [
        {
          "output_type": "display_data",
          "data": {
            "image/png": "[encoded data removed]",
            "text/plain": [
              "<Figure size 432x288 with 1 Axes>"
            ]
          },
          "metadata": {
            "tags": []
          }
        }
      ]
    },
    {
      "metadata": {
        "id": "dqzBREfGRxTd",
        "colab_type": "code",
        "colab": {}
      },
      "cell_type": "code",
      "source": [
        ""
      ],
      "execution_count": 0,
      "outputs": []
    }
  ]
}