{
  "nbformat": 4,
  "nbformat_minor": 0,
  "metadata": {
    "colab": {
      "name": "DSIA Lab 2.1.4 - ANSWER.ipynb",
      "version": "0.3.2",
      "provenance": [],
      "collapsed_sections": [
        "MdLYImnpOlrz"
      ],
      "include_colab_link": true
    },
    "kernelspec": {
      "display_name": "Python 3",
      "language": "python",
      "name": "python3"
    }
  },
  "cells": [
    {
      "cell_type": "markdown",
      "metadata": {
        "id": "view-in-github",
        "colab_type": "text"
      },
      "source": [
        "<a href=\"https://colab.research.google.com/github/ikfaisal/dsia/blob/master/DSIA_Lab_2_1_4_ANSWER.ipynb\" target=\"_parent\"><img src=\"https://colab.research.google.com/assets/colab-badge.svg\" alt=\"Open In Colab\"/></a>"
      ]
    },
    {
      "metadata": {
        "id": "9O1EmeWAOlqO",
        "colab_type": "text"
      },
      "cell_type": "markdown",
      "source": [
        "![alt text](https://i.imgur.com/1WaY7aA.png)\n",
        "---\n",
        "\n",
        "\n",
        "\n",
        "---\n",
        "\n"
      ]
    },
    {
      "metadata": {
        "id": "o1H-RqvcOlqS",
        "colab_type": "text"
      },
      "cell_type": "markdown",
      "source": [
        "# Lab 2.1.4 \n",
        "# *Python with MongoDB*"
      ]
    },
    {
      "metadata": {
        "id": "8l7xykqsOlqV",
        "colab_type": "text"
      },
      "cell_type": "markdown",
      "source": [
        "## Introduction to PyMongo"
      ]
    },
    {
      "metadata": {
        "id": "I_If5AavOlqX",
        "colab_type": "code",
        "colab": {
          "base_uri": "https://localhost:8080/",
          "height": 34
        },
        "outputId": "86737ed4-7a8e-40e0-d2a3-dec89be019cc"
      },
      "cell_type": "code",
      "source": [
        "from IPython.core.display import display, HTML\n",
        "import pymongo\n",
        "from pymongo import MongoClient\n",
        "print ('Mongo version ' + pymongo.__version__)"
      ],
      "execution_count": 1,
      "outputs": [
        {
          "output_type": "stream",
          "text": [
            "Mongo version 3.7.2\n"
          ],
          "name": "stdout"
        }
      ]
    },
    {
      "metadata": {
        "id": "ciUSqjd2Olqf",
        "colab_type": "text"
      },
      "cell_type": "markdown",
      "source": [
        "Start the mongod server (if it isn't lready running) by executing  \n",
        "`mongod`  \n",
        "at the command prompt. "
      ]
    },
    {
      "metadata": {
        "id": "D_dhkUeMOlqh",
        "colab_type": "code",
        "colab": {}
      },
      "cell_type": "code",
      "source": [
        "client = MongoClient('localhost', 27017)"
      ],
      "execution_count": 0,
      "outputs": []
    },
    {
      "metadata": {
        "id": "reUPprSdOlql",
        "colab_type": "text"
      },
      "cell_type": "markdown",
      "source": [
        "What would this do?"
      ]
    },
    {
      "metadata": {
        "id": "FGkSsnLAOlqn",
        "colab_type": "code",
        "colab": {}
      },
      "cell_type": "code",
      "source": [
        "db = client.test\n",
        "collection = db.people\n",
        "collection.drop()"
      ],
      "execution_count": 0,
      "outputs": []
    },
    {
      "metadata": {
        "id": "17KXJL_tOlqs",
        "colab_type": "text"
      },
      "cell_type": "markdown",
      "source": [
        "ANSWER: Drops collection \"people\" from database \"test\"."
      ]
    },
    {
      "metadata": {
        "id": "oV3jffX3Olqt",
        "colab_type": "text"
      },
      "cell_type": "markdown",
      "source": [
        "What would this do?"
      ]
    },
    {
      "metadata": {
        "id": "IUYRB8ZiOlqu",
        "colab_type": "code",
        "colab": {}
      },
      "cell_type": "code",
      "source": [
        "client.test.drop"
      ],
      "execution_count": 0,
      "outputs": []
    },
    {
      "metadata": {
        "id": "JIlj_kfZOlqy",
        "colab_type": "text"
      },
      "cell_type": "markdown",
      "source": [
        "ANSWER: Drops database \"test\"."
      ]
    },
    {
      "metadata": {
        "id": "WhR4qszuOlqz",
        "colab_type": "code",
        "colab": {}
      },
      "cell_type": "code",
      "source": [
        "# Drop database \"mydatabase\" before creating it below: \n",
        "client.mydatabase.drop"
      ],
      "execution_count": 0,
      "outputs": []
    },
    {
      "metadata": {
        "id": "sYBQLBZQOlq2",
        "colab_type": "text"
      },
      "cell_type": "markdown",
      "source": [
        "Create a new database:"
      ]
    },
    {
      "metadata": {
        "id": "VVHelaZ6Olq3",
        "colab_type": "code",
        "colab": {}
      },
      "cell_type": "code",
      "source": [
        "mydb = client[\"mydatabase\"]"
      ],
      "execution_count": 0,
      "outputs": []
    },
    {
      "metadata": {
        "id": "YIu0V2nDOlq6",
        "colab_type": "text"
      },
      "cell_type": "markdown",
      "source": [
        "Confirm that the database exists ... \n",
        "\n",
        "- list all databases in your system:"
      ]
    },
    {
      "metadata": {
        "id": "LnP7erJ0Olq7",
        "colab_type": "code",
        "colab": {}
      },
      "cell_type": "code",
      "source": [
        "#ANSWER:\n",
        "print(client.list_database_names())"
      ],
      "execution_count": 0,
      "outputs": []
    },
    {
      "metadata": {
        "id": "c1KdFy5BOlq9",
        "colab_type": "text"
      },
      "cell_type": "markdown",
      "source": [
        "- check for the database by name:"
      ]
    },
    {
      "metadata": {
        "id": "060gEhoYOlq9",
        "colab_type": "code",
        "colab": {}
      },
      "cell_type": "code",
      "source": [
        "#ANSWER:\n",
        "dblist = client.list_database_names()\n",
        "if \"mydatabase\" in dblist:\n",
        "  print(\"The database exists.\")"
      ],
      "execution_count": 0,
      "outputs": []
    },
    {
      "metadata": {
        "id": "CLEmzhIDOlq_",
        "colab_type": "text"
      },
      "cell_type": "markdown",
      "source": [
        "If the new database was never created before, it will not be found because mongodb is lazy: the db won't get created until data has been written to it!"
      ]
    },
    {
      "metadata": {
        "id": "MrzBwpbsOlq_",
        "colab_type": "text"
      },
      "cell_type": "markdown",
      "source": [
        "Create a collection called \"customers\" (with object name `mycol`):"
      ]
    },
    {
      "metadata": {
        "id": "toIXLCsqOlrA",
        "colab_type": "code",
        "colab": {}
      },
      "cell_type": "code",
      "source": [
        "#ANSWER:\n",
        "mycol = mydb[\"customers\"]"
      ],
      "execution_count": 0,
      "outputs": []
    },
    {
      "metadata": {
        "id": "Q6QgICmtOlrB",
        "colab_type": "text"
      },
      "cell_type": "markdown",
      "source": [
        "Create a document (i.e. a dictionary) with two name:value items \n",
        "(\"name\" = \"John\", and \"address\" = \"Highway 37\") and insert \n",
        "it into the \"customers\" collection: "
      ]
    },
    {
      "metadata": {
        "id": "uGNSTI8tOlrC",
        "colab_type": "code",
        "colab": {}
      },
      "cell_type": "code",
      "source": [
        "#ANSWER:\n",
        "mydict = { \"name\": \"John\", \"address\": \"Highway 37\" }\n",
        "x = mycol.insert_one(mydict)"
      ],
      "execution_count": 0,
      "outputs": []
    },
    {
      "metadata": {
        "id": "HeB7910DOlrD",
        "colab_type": "text"
      },
      "cell_type": "markdown",
      "source": [
        "Now test for the existence of the database:"
      ]
    },
    {
      "metadata": {
        "id": "JuEccLJPOlrE",
        "colab_type": "code",
        "colab": {}
      },
      "cell_type": "code",
      "source": [
        "print(client.list_database_names())"
      ],
      "execution_count": 0,
      "outputs": []
    },
    {
      "metadata": {
        "id": "RWVxjEnfOlrF",
        "colab_type": "text"
      },
      "cell_type": "markdown",
      "source": [
        "List all collections in the database:"
      ]
    },
    {
      "metadata": {
        "id": "PpHoea4LOlrG",
        "colab_type": "code",
        "colab": {}
      },
      "cell_type": "code",
      "source": [
        "#ANSWER:\n",
        "print(mydb.list_collection_names())"
      ],
      "execution_count": 0,
      "outputs": []
    },
    {
      "metadata": {
        "id": "anXA8cdkOlrH",
        "colab_type": "text"
      },
      "cell_type": "markdown",
      "source": [
        "Insert another record in the \"customers\" collection \n",
        "(\"name\" = \"Peter\", \"address\" = \"Lowstreet 27\") \n",
        "and return the value of the _id field:"
      ]
    },
    {
      "metadata": {
        "id": "CCAKygpROlrI",
        "colab_type": "code",
        "colab": {}
      },
      "cell_type": "code",
      "source": [
        "#ANSWER:\n",
        "mydict = { \"name\": \"Peter\", \"address\": \"Lowstreet 27\" }\n",
        "x = mycol.insert_one(mydict)\n",
        "print(x.inserted_id)"
      ],
      "execution_count": 0,
      "outputs": []
    },
    {
      "metadata": {
        "id": "DxuKvaRsOlrK",
        "colab_type": "text"
      },
      "cell_type": "markdown",
      "source": [
        "Given the list of dicts below, insert multiple documents into \n",
        "the collection using the insert_many() method:"
      ]
    },
    {
      "metadata": {
        "id": "VfO2SSz-OlrL",
        "colab_type": "code",
        "colab": {}
      },
      "cell_type": "code",
      "source": [
        "mylist = [\n",
        "  { \"name\": \"Amy\", \"address\": \"Apple st 652\"},\n",
        "  { \"name\": \"Hannah\", \"address\": \"Mountain 21\"},\n",
        "  { \"name\": \"Michael\", \"address\": \"Valley 345\"},\n",
        "  { \"name\": \"Sandy\", \"address\": \"Ocean blvd 2\"},\n",
        "  { \"name\": \"Betty\", \"address\": \"Green Grass 1\"},\n",
        "  { \"name\": \"Richard\", \"address\": \"Sky st 331\"},\n",
        "  { \"name\": \"Susan\", \"address\": \"One way 98\"},\n",
        "  { \"name\": \"Vicky\", \"address\": \"Yellow Garden 2\"},\n",
        "  { \"name\": \"Ben\", \"address\": \"Park Lane 38\"},\n",
        "  { \"name\": \"William\", \"address\": \"Central st 954\"},\n",
        "  { \"name\": \"Chuck\", \"address\": \"Main Road 989\"},\n",
        "  { \"name\": \"Viola\", \"address\": \"Sideway 1633\"}\n",
        "]"
      ],
      "execution_count": 0,
      "outputs": []
    },
    {
      "metadata": {
        "id": "-sZip5ccOlrN",
        "colab_type": "code",
        "colab": {}
      },
      "cell_type": "code",
      "source": [
        "#ANSWER:\n",
        "x = mycol.insert_many(mylist)"
      ],
      "execution_count": 0,
      "outputs": []
    },
    {
      "metadata": {
        "id": "aFrMRpT5OlrQ",
        "colab_type": "text"
      },
      "cell_type": "markdown",
      "source": [
        "Print a list of the _id values of the inserted documents:"
      ]
    },
    {
      "metadata": {
        "id": "DNEuVh8hOlrS",
        "colab_type": "code",
        "colab": {}
      },
      "cell_type": "code",
      "source": [
        "#ANSWER:\n",
        "print(x.inserted_ids)"
      ],
      "execution_count": 0,
      "outputs": []
    },
    {
      "metadata": {
        "id": "QYSb-6d2OlrU",
        "colab_type": "text"
      },
      "cell_type": "markdown",
      "source": [
        "Execute the next cell to insert a list of dicts with specified `_id`s:"
      ]
    },
    {
      "metadata": {
        "id": "-eoQJLq_OlrV",
        "colab_type": "code",
        "colab": {}
      },
      "cell_type": "code",
      "source": [
        "mylist = [\n",
        "  { \"_id\": 1, \"name\": \"John\", \"address\": \"Highway 37\"},\n",
        "  { \"_id\": 2, \"name\": \"Peter\", \"address\": \"Lowstreet 27\"},\n",
        "  { \"_id\": 3, \"name\": \"Amy\", \"address\": \"Apple st 652\"},\n",
        "  { \"_id\": 4, \"name\": \"Hannah\", \"address\": \"Mountain 21\"},\n",
        "  { \"_id\": 5, \"name\": \"Michael\", \"address\": \"Valley 345\"},\n",
        "  { \"_id\": 6, \"name\": \"Sandy\", \"address\": \"Ocean blvd 2\"},\n",
        "  { \"_id\": 7, \"name\": \"Betty\", \"address\": \"Green Grass 1\"},\n",
        "  { \"_id\": 8, \"name\": \"Richard\", \"address\": \"Sky st 331\"},\n",
        "  { \"_id\": 9, \"name\": \"Susan\", \"address\": \"One way 98\"},\n",
        "  { \"_id\": 10, \"name\": \"Vicky\", \"address\": \"Yellow Garden 2\"},\n",
        "  { \"_id\": 11, \"name\": \"Ben\", \"address\": \"Park Lane 38\"},\n",
        "  { \"_id\": 12, \"name\": \"William\", \"address\": \"Central st 954\"},\n",
        "  { \"_id\": 13, \"name\": \"Chuck\", \"address\": \"Main Road 989\"},\n",
        "  { \"_id\": 14, \"name\": \"Viola\", \"address\": \"Sideway 1633\"}\n",
        "]\n",
        "x = mycol.insert_many(mylist)\n",
        "print(x.inserted_ids)"
      ],
      "execution_count": 0,
      "outputs": []
    },
    {
      "metadata": {
        "id": "TVbH8chqOlrX",
        "colab_type": "text"
      },
      "cell_type": "markdown",
      "source": [
        "Now try inserting a new dict with an existing `_id`:"
      ]
    },
    {
      "metadata": {
        "id": "OdThvW9FOlrY",
        "colab_type": "code",
        "colab": {}
      },
      "cell_type": "code",
      "source": [
        "x = mycol.insert_one({ \"_id\": 14, \"name\": \"Manuel\", \"address\": \"Barcelona\"})"
      ],
      "execution_count": 0,
      "outputs": []
    },
    {
      "metadata": {
        "id": "oK1xu8ZiOlra",
        "colab_type": "text"
      },
      "cell_type": "markdown",
      "source": [
        "So, if we want to manage `_id`s in code, we need to be careful!"
      ]
    },
    {
      "metadata": {
        "id": "z-YuOZ43Olrb",
        "colab_type": "text"
      },
      "cell_type": "markdown",
      "source": [
        "This returns the first document in the collection:"
      ]
    },
    {
      "metadata": {
        "id": "YP_136L9Olrc",
        "colab_type": "code",
        "colab": {}
      },
      "cell_type": "code",
      "source": [
        "x = mycol.find_one()\n",
        "print(x)"
      ],
      "execution_count": 0,
      "outputs": []
    },
    {
      "metadata": {
        "id": "ePjkqPtXOlre",
        "colab_type": "text"
      },
      "cell_type": "markdown",
      "source": [
        "Do the same for the document containing \"name\" = \"Hannah\":"
      ]
    },
    {
      "metadata": {
        "id": "oF36ylyyOlrf",
        "colab_type": "code",
        "colab": {}
      },
      "cell_type": "code",
      "source": [
        "#ANSWER:\n",
        "x = mycol.find_one({\"name\": \"Hannah\"})\n",
        "print(x)"
      ],
      "execution_count": 0,
      "outputs": []
    },
    {
      "metadata": {
        "id": "ZstGYKDaOlrh",
        "colab_type": "text"
      },
      "cell_type": "markdown",
      "source": [
        "This returns (and prints) all documents in the collection:"
      ]
    },
    {
      "metadata": {
        "id": "B9mJc9wmOlrh",
        "colab_type": "code",
        "colab": {}
      },
      "cell_type": "code",
      "source": [
        "for x in mycol.find():\n",
        "  print(x)"
      ],
      "execution_count": 0,
      "outputs": []
    },
    {
      "metadata": {
        "id": "AdaLXN8hOlrj",
        "colab_type": "text"
      },
      "cell_type": "markdown",
      "source": [
        "This returns only the name and address fields:"
      ]
    },
    {
      "metadata": {
        "id": "oqETgC36Olrj",
        "colab_type": "code",
        "colab": {}
      },
      "cell_type": "code",
      "source": [
        "for x in mycol.find({},{ \"_id\": 0, \"name\": 1, \"address\": 1 }):\n",
        "  print(x)"
      ],
      "execution_count": 0,
      "outputs": []
    },
    {
      "metadata": {
        "id": "L-wQKCf8Olrk",
        "colab_type": "text"
      },
      "cell_type": "markdown",
      "source": [
        "Print only the `_id` and name fields:"
      ]
    },
    {
      "metadata": {
        "id": "2WgHLB07Olrk",
        "colab_type": "code",
        "colab": {}
      },
      "cell_type": "code",
      "source": [
        "#ANSWER:\n",
        "for x in mycol.find({},{ \"_id\": 1, \"name\": 1 }):\n",
        "  print(x)"
      ],
      "execution_count": 0,
      "outputs": []
    },
    {
      "metadata": {
        "id": "jfB1DEzdOlrl",
        "colab_type": "text"
      },
      "cell_type": "markdown",
      "source": [
        "So, we must explicitly use `\"_id\": 0` to exclude it, but for other fields we simply omit them from the dict argument."
      ]
    },
    {
      "metadata": {
        "id": "IQAADk7NOlrm",
        "colab_type": "text"
      },
      "cell_type": "markdown",
      "source": [
        "To include field conditionals in a query, we use `$` operators. This finds addresses starting with \"S\" or greater:"
      ]
    },
    {
      "metadata": {
        "id": "AftaYPeUOlrm",
        "colab_type": "code",
        "colab": {}
      },
      "cell_type": "code",
      "source": [
        "myquery = { \"address\": { \"$gt\": \"S\" } }\n",
        "mydoc = mycol.find(myquery)\n",
        "for x in mydoc:\n",
        "  print(x)"
      ],
      "execution_count": 0,
      "outputs": []
    },
    {
      "metadata": {
        "id": "z_56GtuDOlrn",
        "colab_type": "text"
      },
      "cell_type": "markdown",
      "source": [
        "Here are some more comparison operators:\n",
        "\n",
        "            $gt, $gte, $eq, $in, $nin, $exists, $and, $or, $not\n",
        "            \n",
        "Experiment with these until you understand how to use them."
      ]
    },
    {
      "metadata": {
        "id": "XlQ3hiPfOlrn",
        "colab_type": "code",
        "colab": {}
      },
      "cell_type": "code",
      "source": [
        ""
      ],
      "execution_count": 0,
      "outputs": []
    },
    {
      "metadata": {
        "id": "OpRNLXd4Olro",
        "colab_type": "text"
      },
      "cell_type": "markdown",
      "source": [
        "Now find all docs with an address that begins with \"S\":  \n",
        "(HINT: The value for \"address\" in the argument should be the regex-based dict { \"$regex\": \"^S\" }.)"
      ]
    },
    {
      "metadata": {
        "id": "tN4Kn-vyOlrp",
        "colab_type": "code",
        "colab": {}
      },
      "cell_type": "code",
      "source": [
        "#ANSWER:\n",
        "myquery = { \"address\": { \"$regex\": \"^S\" } }\n",
        "mydoc = mycol.find(myquery)\n",
        "for x in mydoc:\n",
        "  print(x)"
      ],
      "execution_count": 0,
      "outputs": []
    },
    {
      "metadata": {
        "id": "1UoZuCTDOlrq",
        "colab_type": "text"
      },
      "cell_type": "markdown",
      "source": [
        "Sorting can be applied by invoking the Sort() method after the Find() method. Sort the collection by the name field:"
      ]
    },
    {
      "metadata": {
        "id": "emrzpzZkOlrr",
        "colab_type": "code",
        "colab": {}
      },
      "cell_type": "code",
      "source": [
        "#ANSWER:\n",
        "mydoc = mycol.find().sort(\"name\")\n",
        "for x in mydoc:\n",
        "  print(x)"
      ],
      "execution_count": 0,
      "outputs": []
    },
    {
      "metadata": {
        "id": "V_77CWpgOlrs",
        "colab_type": "text"
      },
      "cell_type": "markdown",
      "source": [
        "Now sort in reverse order (HINT: The Sort() method takes an optional second parameter.)"
      ]
    },
    {
      "metadata": {
        "id": "_FDaYzDHOlrs",
        "colab_type": "text"
      },
      "cell_type": "markdown",
      "source": [
        "A single record can be deleted by specifying some criterion:"
      ]
    },
    {
      "metadata": {
        "id": "ZMUyCeoWOlrt",
        "colab_type": "code",
        "colab": {}
      },
      "cell_type": "code",
      "source": [
        "mycol.delete_one({ \"address\": \"Mountain 21\" })"
      ],
      "execution_count": 0,
      "outputs": []
    },
    {
      "metadata": {
        "id": "NMFsvYYQOlru",
        "colab_type": "text"
      },
      "cell_type": "markdown",
      "source": [
        "Now delete all docs with the 2-digit `Id` values:"
      ]
    },
    {
      "metadata": {
        "id": "prCnKlvfOlru",
        "colab_type": "code",
        "colab": {}
      },
      "cell_type": "code",
      "source": [
        "#ANSWER:\n",
        "mycol.delete_many({ \"_id\": {\"$lt\": 15} })\n",
        "for x in mycol.find():\n",
        "  print(x)"
      ],
      "execution_count": 0,
      "outputs": []
    },
    {
      "metadata": {
        "id": "t3E6UV1cOlrw",
        "colab_type": "text"
      },
      "cell_type": "markdown",
      "source": [
        "This would delete all docs:\n",
        "`x = mycol.delete_many({})`\n",
        "\n",
        "This would remove the collection:\n",
        "`mycol.drop()`"
      ]
    },
    {
      "metadata": {
        "id": "qz0uatIROlrw",
        "colab_type": "text"
      },
      "cell_type": "markdown",
      "source": [
        "Change the first instance of \"address\" == \"Valley 345\" to \"Canyon 123\" using update_one().  \n",
        "(HINT: The 1st paramater of update_one() is the criterion (query); the 2nd is dict specifying the field to change and its new value.) "
      ]
    },
    {
      "metadata": {
        "id": "f2MBnpIjOlrw",
        "colab_type": "code",
        "colab": {}
      },
      "cell_type": "code",
      "source": [
        "#ANSWER:\n",
        "myquery = { \"address\": \"Valley 345\" }\n",
        "newvalues = { \"$set\": { \"address\": \"Canyon 123\" } }\n",
        "mycol.update_one(myquery, newvalues)\n",
        "for x in mycol.find():\n",
        "  print(x)"
      ],
      "execution_count": 0,
      "outputs": []
    },
    {
      "metadata": {
        "id": "Lzn6Z_B4Olrx",
        "colab_type": "text"
      },
      "cell_type": "markdown",
      "source": [
        "The limit() method can be applied after the find() method to limit the number of docs returned. Show the first 5 docs:"
      ]
    },
    {
      "metadata": {
        "id": "3zP9VIMtOlrx",
        "colab_type": "code",
        "colab": {}
      },
      "cell_type": "code",
      "source": [
        "#ANSWER:\n",
        "myresult = mycol.find().limit(5)\n",
        "for x in myresult:\n",
        "  print(x)"
      ],
      "execution_count": 0,
      "outputs": []
    },
    {
      "metadata": {
        "id": "MdLYImnpOlrz",
        "colab_type": "text"
      },
      "cell_type": "markdown",
      "source": [
        "## PyMongo for Data Science"
      ]
    },
    {
      "metadata": {
        "id": "rRV2bc2hOlrz",
        "colab_type": "text"
      },
      "cell_type": "markdown",
      "source": [
        "MongoDB has many more features of interest to developers, but the main focus of a data scientist will be wrangling and munging the data. It may or may not be desirable to do all the data munging in Pandas; for a large, distributed database, it may be imperative to perform aggregation in MongoDB. "
      ]
    },
    {
      "metadata": {
        "id": "il5hpMF2Olr0",
        "colab_type": "code",
        "colab": {}
      },
      "cell_type": "code",
      "source": [
        "# Ref:  https://rsandstroem.github.io/MongoDBDemo.html\n",
        "\n",
        "import os\n",
        "import pandas as pd\n",
        "import numpy as np"
      ],
      "execution_count": 0,
      "outputs": []
    },
    {
      "metadata": {
        "id": "sPhZp-6bOlr1",
        "colab_type": "text"
      },
      "cell_type": "markdown",
      "source": [
        "This code creates a database named \"test\" and populates it from a JSON file using the mongoimport program (executed in the operating systems itself, rather than in Python):"
      ]
    },
    {
      "metadata": {
        "id": "_pBvhyCDOlr1",
        "colab_type": "code",
        "colab": {}
      },
      "cell_type": "code",
      "source": [
        "db = client.test\n",
        "# Drop the collection in case it was previously created:\n",
        "# collection = db.people\n",
        "# collection.drop()"
      ],
      "execution_count": 0,
      "outputs": []
    },
    {
      "metadata": {
        "id": "ryMolohiOlr3",
        "colab_type": "code",
        "colab": {}
      },
      "cell_type": "code",
      "source": [
        "os.chdir(\"dat\")"
      ],
      "execution_count": 0,
      "outputs": []
    },
    {
      "metadata": {
        "id": "5-2PdpjkOlr5",
        "colab_type": "code",
        "colab": {}
      },
      "cell_type": "code",
      "source": [
        "pwd()"
      ],
      "execution_count": 0,
      "outputs": []
    },
    {
      "metadata": {
        "id": "JEDjmxk2Olr7",
        "colab_type": "code",
        "colab": {}
      },
      "cell_type": "code",
      "source": [
        "# if this does not return 0, execute mongoimport from a commmand window instead:\n",
        "os.system('mongoimport -d test -c people dummyData.json')"
      ],
      "execution_count": 0,
      "outputs": []
    },
    {
      "metadata": {
        "id": "6Ex48iCPOlr8",
        "colab_type": "code",
        "colab": {}
      },
      "cell_type": "code",
      "source": [
        "os.chdir(\"..\")"
      ],
      "execution_count": 0,
      "outputs": []
    },
    {
      "metadata": {
        "id": "o7TfXhQMOlr-",
        "colab_type": "code",
        "colab": {}
      },
      "cell_type": "code",
      "source": [
        "pwd()"
      ],
      "execution_count": 0,
      "outputs": []
    },
    {
      "metadata": {
        "id": "_f-RjMoFOlr_",
        "colab_type": "code",
        "colab": {}
      },
      "cell_type": "code",
      "source": [
        "db = client.test\n",
        "collection = db.people\n",
        "cursor = collection.find().sort('Age',pymongo.ASCENDING).limit(3)\n",
        "for doc in cursor:\n",
        "    print (doc)"
      ],
      "execution_count": 0,
      "outputs": []
    },
    {
      "metadata": {
        "id": "oDqJyxYWOlsA",
        "colab_type": "text"
      },
      "cell_type": "markdown",
      "source": [
        "Here is a small demonstration of the MongoDB aggregation framework. We want to create a table of the number of persons in each country and their average age. To do it we group by country. We extract the results from MongoDB aggregation into a pandas dataframe, and use the country as index."
      ]
    },
    {
      "metadata": {
        "id": "qe0uLGpjOlsB",
        "colab_type": "code",
        "colab": {}
      },
      "cell_type": "code",
      "source": [
        "pipeline = [\n",
        "        {\"$group\": {\"_id\":\"$Country\",\n",
        "             \"AvgAge\":{\"$avg\":\"$Age\"},\n",
        "             \"Count\":{\"$sum\":1},\n",
        "        }},\n",
        "        {\"$sort\":{\"Count\":-1,\"AvgAge\":1}}\n",
        "]\n",
        "aggResult = collection.aggregate(pipeline) # returns a cursor\n",
        "\n",
        "df1 = pd.DataFrame(list(aggResult)) # use list to turn the cursor to an array of documents\n",
        "df1 = df1.set_index(\"_id\")\n",
        "df1.head()"
      ],
      "execution_count": 0,
      "outputs": []
    },
    {
      "metadata": {
        "id": "JNCe_oGYOlsC",
        "colab_type": "text"
      },
      "cell_type": "markdown",
      "source": [
        "For simple cases one can either use a cursor through find(\"search term\") or use the \"$match\" operator in the aggregation framework, like this:"
      ]
    },
    {
      "metadata": {
        "id": "WTTAlaHnOlsD",
        "colab_type": "code",
        "colab": {}
      },
      "cell_type": "code",
      "source": [
        "pipeline = [\n",
        "        {\"$match\": {\"Country\":\"China\"}},\n",
        "]\n",
        "aggResult = collection.aggregate(pipeline)\n",
        "df2 = pd.DataFrame(list(aggResult))\n",
        "df2.head()"
      ],
      "execution_count": 0,
      "outputs": []
    },
    {
      "metadata": {
        "id": "o4tyQNwPOlsE",
        "colab_type": "text"
      },
      "cell_type": "markdown",
      "source": [
        "Now we can apply all the power of Python libraries to analyse and visualise the data. Here, we will use the folium package to plot markers for the locations of the people we just found in China (click on a marker to see their data):"
      ]
    },
    {
      "metadata": {
        "id": "WpFwKRdxOlsE",
        "colab_type": "code",
        "colab": {}
      },
      "cell_type": "code",
      "source": [
        "# Un-comment and execute to install folium pkg (1st time only):\n",
        "# import sys\n",
        "# !{sys.executable} -m pip install folium"
      ],
      "execution_count": 0,
      "outputs": []
    },
    {
      "metadata": {
        "id": "sk-6gtnzOlsF",
        "colab_type": "code",
        "colab": {}
      },
      "cell_type": "code",
      "source": [
        "import folium\n",
        "print ('Folium version ' + folium.__version__)\n",
        "\n",
        "world_map = folium.Map(location = [35, 100], zoom_start = 4)\n",
        "for i in range(len(df2)):\n",
        "    location = [float(loc) for loc in df2.Location[i].split(',')]\n",
        "    folium.Marker(location = location, popup = df2.Name[i] + ', age:' + str(df2.Age[i])).add_to(world_map)\n",
        "    \n",
        "world_map"
      ],
      "execution_count": 0,
      "outputs": []
    },
    {
      "metadata": {
        "id": "UK-pDm83OlsG",
        "colab_type": "text"
      },
      "cell_type": "markdown",
      "source": [
        "## HOMEWORK:\n"
      ]
    },
    {
      "metadata": {
        "id": "Rg-jyGycOlsG",
        "colab_type": "text"
      },
      "cell_type": "markdown",
      "source": [
        "1. Read up on how to perform aggregation in mongoDB. Insert a duplicate record into the collection:\n",
        "        mydict = { \"name\": \"John\", \"address\": \"Highway 37\" }\n",
        "   Now write a command to find docs with a duplicate \"name\" field (using aggregation) and remove them.  \n",
        "   Print the collection."
      ]
    },
    {
      "metadata": {
        "id": "PPFU3U4TOlsG",
        "colab_type": "code",
        "colab": {}
      },
      "cell_type": "code",
      "source": [
        ""
      ],
      "execution_count": 0,
      "outputs": []
    },
    {
      "metadata": {
        "id": "Nr1w7ut5OlsH",
        "colab_type": "text"
      },
      "cell_type": "markdown",
      "source": [
        "2. Read up on how to apply indexes in mongoDB. Create an index on the \"name\" and \"address\" fields in this collection.\n",
        "   Print the indexes for the collection."
      ]
    },
    {
      "metadata": {
        "id": "JCZSnODjOlsI",
        "colab_type": "code",
        "colab": {}
      },
      "cell_type": "code",
      "source": [
        ""
      ],
      "execution_count": 0,
      "outputs": []
    },
    {
      "metadata": {
        "id": "hjlo5gkON5nB",
        "colab_type": "text"
      },
      "cell_type": "markdown",
      "source": [
        ">\n",
        ">\n",
        ">\n",
        ">\n",
        ">"
      ]
    },
    {
      "metadata": {
        "id": "G5miCSgGN8lm",
        "colab_type": "text"
      },
      "cell_type": "markdown",
      "source": [
        ">\n",
        ">\n"
      ]
    },
    {
      "metadata": {
        "id": "fWOk43cgN71c",
        "colab_type": "text"
      },
      "cell_type": "markdown",
      "source": [
        "\n",
        "\n",
        "---\n",
        "\n",
        "\n",
        "\n",
        "---\n",
        "\n",
        "> > > > > > > > > © 2019 Data Science Institute of Australia\n",
        "\n",
        "\n",
        "\n",
        "---\n",
        "\n",
        "\n",
        "\n",
        "---\n",
        "\n"
      ]
    }
  ]
}