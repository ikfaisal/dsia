{
  "nbformat": 4,
  "nbformat_minor": 0,
  "metadata": {
    "colab": {
      "name": "Calculus - Integral.ipynb",
      "version": "0.3.2",
      "provenance": [],
      "include_colab_link": true
    },
    "kernelspec": {
      "display_name": "Python 3",
      "language": "python",
      "name": "python3"
    }
  },
  "cells": [
    {
      "cell_type": "markdown",
      "metadata": {
        "id": "view-in-github",
        "colab_type": "text"
      },
      "source": [
        "<a href=\"https://colab.research.google.com/github/ikfaisal/dsia/blob/master/Calculus_Integral.ipynb\" target=\"_parent\"><img src=\"https://colab.research.google.com/assets/colab-badge.svg\" alt=\"Open In Colab\"/></a>"
      ]
    },
    {
      "metadata": {
        "id": "YPFbgplmKcYp",
        "colab_type": "text"
      },
      "cell_type": "markdown",
      "source": [
        "# Calculus - Integral"
      ]
    },
    {
      "metadata": {
        "id": "NxkLjNxUKcYr",
        "colab_type": "code",
        "colab": {}
      },
      "cell_type": "code",
      "source": [
        "import numpy as np\n",
        "import matplotlib.pyplot as plt\n",
        "# get matplot to show charts inline\n",
        "%matplotlib inline"
      ],
      "execution_count": 0,
      "outputs": []
    },
    {
      "metadata": {
        "id": "49k4u8lCKcYy",
        "colab_type": "code",
        "colab": {}
      },
      "cell_type": "code",
      "source": [
        "# define a function such as f(x) = x**2\n",
        "def f(x):\n",
        "    return x**2"
      ],
      "execution_count": 0,
      "outputs": []
    },
    {
      "metadata": {
        "id": "lrcZ0mY6KcZD",
        "colab_type": "code",
        "outputId": "c121f8dd-c384-4364-b433-a52f1554e3bd",
        "colab": {}
      },
      "cell_type": "code",
      "source": [
        "# plot f(x)\n",
        "x = np.arange(-10,11,1)\n",
        "y = f(x)\n",
        "plt.plot(x, y)\n",
        "plt.xlabel('x')\n",
        "plt.ylabel('f(x)')\n",
        "plt.grid()\n",
        "plt.show()"
      ],
      "execution_count": 0,
      "outputs": [
        {
          "output_type": "display_data",
          "data": {
            "image/png": "[encoded data removed]",
            "text/plain": [
              "<Figure size 432x288 with 1 Axes>"
            ]
          },
          "metadata": {
            "tags": []
          }
        }
      ]
    },
    {
      "metadata": {
        "id": "VBkIo2EpKcY3",
        "colab_type": "code",
        "outputId": "bcc4fe95-db53-4638-cc81-77134ab3d763",
        "colab": {}
      },
      "cell_type": "code",
      "source": [
        "# test the function you defined above by simply print its value for some numbers\n",
        "print('f(2) = ',f(2))\n",
        "print('f(5) = ',f(5))\n",
        "print('f(-3) = ',f(-3))"
      ],
      "execution_count": 0,
      "outputs": [
        {
          "output_type": "stream",
          "text": [
            "f(2) =  4\n",
            "f(5) =  25\n",
            "f(-3) =  9\n"
          ],
          "name": "stdout"
        }
      ]
    },
    {
      "metadata": {
        "id": "4sX3AWgcKcZM",
        "colab_type": "code",
        "colab": {}
      },
      "cell_type": "code",
      "source": [
        "# define integral of f(x)\n",
        "# integral of a function is the area under the curve of this function\n",
        "# it can be approximated by plotting lots of retangles and add their areas\n",
        "# the more reactangles you draw, the better is the approximation\n",
        "# but why do it by hand where python can do a much better job?!\n",
        "def integral(startX, endX, numberOfRectangles):\n",
        "    width = (float(endX) - float(startX)/ numberOfRectangles\n",
        "    totalArea = 0\n",
        "    for i in range(numberOfRectangles):\n",
        "        height = f(startX + i*width)\n",
        "        area = width * height\n",
        "        totalArea += area\n",
        "    return totalArea"
      ],
      "execution_count": 0,
      "outputs": []
    },
    {
      "metadata": {
        "id": "oS70agDbKcZR",
        "colab_type": "code",
        "outputId": "745cf378-287b-4a4b-8edc-66f811177fac",
        "colab": {}
      },
      "cell_type": "code",
      "source": [
        "# calculate integral of f(x) for some startX, endX and a number of rectangles\n",
        "print('integral(2.0,4.0,10) = ',integral(2.0,4.0,10))\n",
        "print('integral(2.0,4.0,1000) = ',integral(2.0,4.0,1000))\n",
        "print('-----')\n",
        "print('integral(-1.0,2.0,10) = ',integral(-1.0,2.0,10))\n",
        "print('integral(-1.0,2.0,1000) = ',integral(-1.0,2.0,1000))"
      ],
      "execution_count": 0,
      "outputs": [
        {
          "output_type": "stream",
          "text": [
            "integral(2.0,4.0,10) =  17.480000000000004\n",
            "integral(2.0,4.0,1000) =  18.654668000000008\n",
            "-----\n",
            "integral(-1.0,2.0,10) =  2.5949999999999993\n",
            "integral(-1.0,2.0,1000) =  2.9955045000000005\n"
          ],
          "name": "stdout"
        }
      ]
    },
    {
      "metadata": {
        "id": "rMxJsP-UKcZY",
        "colab_type": "code",
        "colab": {}
      },
      "cell_type": "code",
      "source": [
        ""
      ],
      "execution_count": 0,
      "outputs": []
    },
    {
      "metadata": {
        "id": "Veu53k7cKsKR",
        "colab_type": "code",
        "colab": {}
      },
      "cell_type": "code",
      "source": [
        ""
      ],
      "execution_count": 0,
      "outputs": []
    }
  ]
}