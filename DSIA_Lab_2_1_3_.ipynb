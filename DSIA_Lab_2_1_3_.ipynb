{
  "nbformat": 4,
  "nbformat_minor": 0,
  "metadata": {
    "colab": {
      "name": "DSIA Lab 2.1.3 .ipynb",
      "version": "0.3.2",
      "provenance": [],
      "collapsed_sections": [],
      "include_colab_link": true
    },
    "kernelspec": {
      "display_name": "Python 3",
      "language": "python",
      "name": "python3"
    }
  },
  "cells": [
    {
      "cell_type": "markdown",
      "metadata": {
        "id": "view-in-github",
        "colab_type": "text"
      },
      "source": [
        "<a href=\"https://colab.research.google.com/github/ikfaisal/dsia/blob/master/DSIA_Lab_2_1_3_.ipynb\" target=\"_parent\"><img src=\"https://colab.research.google.com/assets/colab-badge.svg\" alt=\"Open In Colab\"/></a>"
      ]
    },
    {
      "metadata": {
        "id": "O4slJmP6lJPO",
        "colab_type": "text"
      },
      "cell_type": "markdown",
      "source": [
        "![alt text](https://bit.ly/2Ooh01X)\n",
        "\n",
        "---\n",
        "\n",
        "---\n",
        "\n",
        "\n",
        "\n",
        "\n",
        "\n"
      ]
    },
    {
      "metadata": {
        "id": "YgGme6aRlJPT",
        "colab_type": "text"
      },
      "cell_type": "markdown",
      "source": [
        "# Lab 2.1.3: \n",
        "# *Database Programming with Python and SQLite*"
      ]
    },
    {
      "metadata": {
        "id": "e66YCCbxo80J",
        "colab_type": "text"
      },
      "cell_type": "markdown",
      "source": [
        ""
      ]
    },
    {
      "metadata": {
        "id": "qv6NIGfOlJPW",
        "colab_type": "text"
      },
      "cell_type": "markdown",
      "source": [
        "<a name=\"demo\"></a>\n",
        "## Using SQLite\n",
        "\n",
        "### Advantages of SQLite\n",
        "\n",
        "- does not run on a separate server\n",
        "- creates portable SQL databases saved in a single file\n",
        "- databases are stored in a very efficient manner and allow fast querying\n",
        "- ideal for small databases or databases that need to be copied across machines.\n",
        "- prototyping applications (e.g. as an embedded database server in a Python program).\n",
        "\n"
      ]
    },
    {
      "metadata": {
        "id": "IHIaKfRelJPc",
        "colab_type": "text"
      },
      "cell_type": "markdown",
      "source": [
        "### The `sqlite3` Command Line Utility\n",
        "\n",
        "- useful for basic SQL tasks and databse maintenance\n",
        "- for creating and dropping databases, it may be safer to use the command line than to roll the code into a Python program"
      ]
    },
    {
      "metadata": {
        "id": "adOx7ovjlJPf",
        "colab_type": "text"
      },
      "cell_type": "markdown",
      "source": [
        "1. Add the sqlite3 installation folder to your PATH environment variable.\n",
        "2. Open a command window.\n",
        "3. Navigate to your preferred working directory.\n",
        "4. Start the sqlite3 command line utility and create a database called \"ex1\":\n",
        "\n",
        "`$ sqlite3 ex1`\n",
        "\n",
        "Output:  \n",
        "\n",
        "`SQLite version 3.8.5 2014-05-29 12:36:14\n",
        "Enter \".help\" for usage hints.\n",
        "sqlite>`\n",
        "\n",
        "*Nb. If you leave out the database name (after `sqlite3`, above) a new, temporary database will be created; it will be destroyed upon exiting sqlite3.*  \n"
      ]
    },
    {
      "metadata": {
        "id": "nuPeNybYlJPj",
        "colab_type": "text"
      },
      "cell_type": "markdown",
      "source": [
        "Enter the following commands at the sqlite prompt (not shown):\n",
        "\n",
        "`create table tbl1(one varchar(10), two smallint);\n",
        "insert into tbl1 values('hello!',10);\n",
        "insert into tbl1 values('goodbye', 20);\n",
        "select * from tbl1;`\n",
        "\n",
        "Output:  \n",
        "\n",
        "`hello!|10\n",
        "goodbye|20`"
      ]
    },
    {
      "metadata": {
        "id": "G7c-GNh_lJPl",
        "colab_type": "text"
      },
      "cell_type": "markdown",
      "source": [
        "Enter `.help` at the sqlite3 command prompt. This lists the available \"dot commands\". \n",
        "\n",
        "Some of the more useful dot commands include:\n",
        "\n",
        "`  \n",
        ".backup ?DB? FILE      Backup DB (default \"main\") to FILE.\n",
        ".cd DIRECTORY          Change the working directory to DIRECTORY\n",
        ".clone NEWDB           Clone data into NEWDB from the existing database\n",
        ".databases             List names and files of attached databases\n",
        ".dump ?TABLE? ...      Dump the database in an SQL text format.\n",
        ".excel                 Display the output of next command in a spreadsheet\n",
        ".exit                  Exit this program\n",
        ".headers on|off        Turn display of headers on or off\n",
        ".help                  Show this message\n",
        ".import FILE TABLE     Import data from FILE into TABLE\n",
        ".indexes ?TABLE?       Show names of all indexes.\n",
        ".quit                  Exit this program\n",
        ".read FILENAME         Execute SQL in FILENAME\n",
        ".restore ?DB? FILE     Restore content of DB (default \"main\") from FILE\n",
        ".save FILE             Write in-memory database into FILE\n",
        ".tables ?TABLE?        List names of tables.`\n"
      ]
    },
    {
      "metadata": {
        "id": "UGuSmoHMlJPn",
        "colab_type": "text"
      },
      "cell_type": "markdown",
      "source": [
        "### The `sqlite3` package\n",
        "\n",
        "The easiest way to incorporate an SQL database into a Python application is by using the `sqlite3` package for [`Python 2.7`](https://docs.python.org/2.7/library/sqlite3.html) or [`Python 3.x`](https://docs.python.org/3/library/sqlite3.html).\n",
        "\n",
        "Open a connection to an SQLite database file.  As before, if the file does not already exist it will automatically be created."
      ]
    },
    {
      "metadata": {
        "id": "kDA5eAPilJPo",
        "colab_type": "code",
        "colab": {}
      },
      "cell_type": "code",
      "source": [
        "import sqlite3\n",
        "sqlite_db = 'test_db.sqlite'\n",
        "conn = sqlite3.connect(sqlite_db) \n",
        "c = conn.cursor()"
      ],
      "execution_count": 0,
      "outputs": []
    },
    {
      "metadata": {
        "id": "SbbON3DXlJPt",
        "colab_type": "text"
      },
      "cell_type": "markdown",
      "source": [
        "Commands can be executed by passing them as string arguments to the `execute` method of the cursor we just created for this database."
      ]
    },
    {
      "metadata": {
        "id": "9YezTIZxlJPu",
        "colab_type": "text"
      },
      "cell_type": "markdown",
      "source": [
        "*Nb. If this script has never been run before, the following will raise an (inconsequential) error message:*"
      ]
    },
    {
      "metadata": {
        "id": "vf0t6T2mlJPw",
        "colab_type": "code",
        "colab": {}
      },
      "cell_type": "code",
      "source": [
        "c.execute('DROP TABLE houses;')\n",
        "\n",
        "# Save (commit) the changes:\n",
        "conn.commit()"
      ],
      "execution_count": 0,
      "outputs": []
    },
    {
      "metadata": {
        "id": "jSfkJrVWlJPz",
        "colab_type": "code",
        "colab": {}
      },
      "cell_type": "code",
      "source": [
        "c.execute('CREATE TABLE houses (field1 INTEGER PRIMARY KEY, sqft INTEGER, bdrms INTEGER, age INTEGER, price INTEGER);')\n",
        "conn.commit()"
      ],
      "execution_count": 0,
      "outputs": []
    },
    {
      "metadata": {
        "id": "_BWciGvRlJP3",
        "colab_type": "text"
      },
      "cell_type": "markdown",
      "source": [
        "With the database saved the table should now be viewable using SQLite Manager.\n",
        "\n",
        "#### Adding data\n",
        "\n",
        "Since we're back in python, we can now use regular programming techniques in conjunction with the sqlite connection.  In particular, the cursor's `execute()` method supports value substitutionusing the `?` character, which makes adding multiple records a bit easier.  See the [docs](https://docs.python.org/2.7/library/sqlite3.html) for more details."
      ]
    },
    {
      "metadata": {
        "id": "EFU0wSP1lJP4",
        "colab_type": "code",
        "colab": {}
      },
      "cell_type": "code",
      "source": [
        "last_sale = (None, 4000, 5, 22, 619000)\n",
        "c.execute('INSERT INTO houses VALUES (?,?,?,?,?)',last_sale)\n",
        "\n",
        "# Remember to commit the changes\n",
        "conn.commit()"
      ],
      "execution_count": 0,
      "outputs": []
    },
    {
      "metadata": {
        "id": "t7h9HnjDlJP7",
        "colab_type": "text"
      },
      "cell_type": "markdown",
      "source": [
        "Notice that in this syntax we use the python `None` value, rather than `NULL`, to trigger SQLite to auto-increment the Primary Key. \n",
        "\n",
        "There is a related cursor method `executemany()` which takes an array of tuples and loops through them, substituting one tuple at a time."
      ]
    },
    {
      "metadata": {
        "id": "MA2Xia7IlJP8",
        "colab_type": "code",
        "colab": {}
      },
      "cell_type": "code",
      "source": [
        "recent_sales = [\n",
        "  (None, 2390, 4, 34, 319000),\n",
        "  (None, 1870, 3, 14, 289000),\n",
        "  (None, 1505, 3, 90, 269000),\n",
        "]\n",
        "\n",
        "# Nb. The \"?\" parameters are placeholders for data that will map to the table columns during insertion;\n",
        "#     this is a security measure against SQL injection attacks:\n",
        "c.executemany('INSERT INTO houses VALUES (?, ?, ?, ?, ?)', recent_sales)\n",
        "\n",
        "conn.commit()"
      ],
      "execution_count": 0,
      "outputs": []
    },
    {
      "metadata": {
        "id": "aQPGUlLZlJP-",
        "colab_type": "code",
        "outputId": "ff56606d-0008-4c89-ea9e-ff31a2cf321d",
        "colab": {}
      },
      "cell_type": "code",
      "source": [
        "c.execute('select * from houses').fetchall()"
      ],
      "execution_count": 0,
      "outputs": [
        {
          "output_type": "execute_result",
          "data": {
            "text/plain": [
              "[(1, 4000, 5, 22, 619000),\n",
              " (2, 2390, 4, 34, 319000),\n",
              " (3, 1870, 3, 14, 289000),\n",
              " (4, 1505, 3, 90, 269000)]"
            ]
          },
          "metadata": {
            "tags": []
          },
          "execution_count": 5
        }
      ]
    },
    {
      "metadata": {
        "id": "Rua_QrCClJQF",
        "colab_type": "text"
      },
      "cell_type": "markdown",
      "source": [
        "\n",
        "\n",
        "\n",
        "#### Adding data from a csv file\n",
        "One way to populate the database from a file is to use `numpy.genfromtxt` to read the file into an array (converted to a list for easier handling), and then `INSERT` those records into the database.  The `genfromtxt` function has options including the output data type, handling of missing values, skipping of header and footer rows, columns to read, and more. "
      ]
    },
    {
      "metadata": {
        "id": "DbzyW9LclJQG",
        "colab_type": "code",
        "colab": {}
      },
      "cell_type": "code",
      "source": [
        "from numpy import genfromtxt\n",
        "\n",
        "# import into nparray of ints, then convert to list of lists:\n",
        "data = genfromtxt('dat/housing-data.csv', dtype = 'i8', \n",
        "                    delimiter = ',', skip_header = 1).tolist()"
      ],
      "execution_count": 0,
      "outputs": []
    },
    {
      "metadata": {
        "id": "rsYzLBGglJQI",
        "colab_type": "text"
      },
      "cell_type": "markdown",
      "source": [
        "Suppose we need to put a placeholder in the first column for data that will be available later. Best practice is to insert the value `None`:"
      ]
    },
    {
      "metadata": {
        "id": "IpIp0WZhlJQI",
        "colab_type": "code",
        "colab": {}
      },
      "cell_type": "code",
      "source": [
        "# prepend a None value to beginning of each sub-list:\n",
        "for d in data:\n",
        "    d.insert(0, None)"
      ],
      "execution_count": 0,
      "outputs": []
    },
    {
      "metadata": {
        "id": "FwHtbxRTlJQL",
        "colab_type": "text"
      },
      "cell_type": "markdown",
      "source": [
        "*Nb. This is why we converted the input array to a list. An array can only hold one type of data (integers in this case) so we could not have inserted `None` before we did this conversion.*"
      ]
    },
    {
      "metadata": {
        "id": "dpjV2gEIlJQL",
        "colab_type": "code",
        "outputId": "553d1507-35e9-4682-fd2f-141d26513a2c",
        "colab": {}
      },
      "cell_type": "code",
      "source": [
        "# check:\n",
        "print(type(data))\n",
        "print(data[0:3])"
      ],
      "execution_count": 0,
      "outputs": [
        {
          "output_type": "stream",
          "text": [
            "<class 'list'>\n",
            "[[None, 2104, 3, 70, 399900], [None, 1600, 3, 28, 329900], [None, 2400, 3, 44, 369000]]\n"
          ],
          "name": "stdout"
        }
      ]
    },
    {
      "metadata": {
        "id": "2YuxctislJQP",
        "colab_type": "text"
      },
      "cell_type": "markdown",
      "source": [
        "Now we can insert each list item as a row of fields in the database."
      ]
    },
    {
      "metadata": {
        "id": "1X78UleXlJQP",
        "colab_type": "code",
        "colab": {}
      },
      "cell_type": "code",
      "source": [
        "# loop through data, running an INSERT on each record (i.e. sublist):\n",
        "for d in data:\n",
        "    c.execute('INSERT INTO houses VALUES (?, ?, ?, ?, ?)', d)\n",
        "\n",
        "conn.commit()"
      ],
      "execution_count": 0,
      "outputs": []
    },
    {
      "metadata": {
        "id": "fOU5sJDmlJQS",
        "colab_type": "text"
      },
      "cell_type": "markdown",
      "source": [
        "In this case, because we were inserting the same value for all records, so we could have simply used a 'None' in the numpy `insert` method at column 0."
      ]
    },
    {
      "metadata": {
        "id": "sDig16BalJQS",
        "colab_type": "code",
        "colab": {}
      },
      "cell_type": "code",
      "source": [
        "import numpy as np\n",
        "d1 = np.asarray([1200, 3, 15, 250000])\n",
        "d1 = d1.tolist()\n",
        "d1.insert(0, None)\n",
        "d1\n",
        "c.execute('INSERT INTO houses VALUES (?, ?, ?, ?, ?)', d1)\n",
        "conn.commit()"
      ],
      "execution_count": 0,
      "outputs": []
    },
    {
      "metadata": {
        "id": "FVZ3jVc3lJQT",
        "colab_type": "text"
      },
      "cell_type": "markdown",
      "source": [
        "#### Deleting Rows"
      ]
    },
    {
      "metadata": {
        "id": "fwGFqJKplJQU",
        "colab_type": "text"
      },
      "cell_type": "markdown",
      "source": [
        "The `DELETE FROM` statement can be used with a `WHERE` clause to specify rows to delete based on some criteria."
      ]
    },
    {
      "metadata": {
        "id": "G-t-_J1alJQU",
        "colab_type": "code",
        "colab": {}
      },
      "cell_type": "code",
      "source": [
        "c.execute('DELETE FROM houses WHERE field1 IN (52, 53)')\n",
        "conn.commit()"
      ],
      "execution_count": 0,
      "outputs": []
    },
    {
      "metadata": {
        "id": "dBd4Rh8DlJQW",
        "colab_type": "text"
      },
      "cell_type": "markdown",
      "source": [
        "QUIZ: What would `DELETE FROM houses` do?"
      ]
    },
    {
      "metadata": {
        "id": "omubeB6qlJQW",
        "colab_type": "text"
      },
      "cell_type": "markdown",
      "source": [
        "#### Filtering Rows"
      ]
    },
    {
      "metadata": {
        "id": "tET_cYfWlJQX",
        "colab_type": "code",
        "outputId": "45be6cf4-c3f5-4e72-ffc1-e7a22bf10ecb",
        "colab": {}
      },
      "cell_type": "code",
      "source": [
        "# similar syntax as before\n",
        "results = c.execute(\"SELECT * FROM houses WHERE bdrms = 4\")\n",
        "\n",
        "# here results is a cursor object - use fetchall() to extract a list\n",
        "results.fetchall()"
      ],
      "execution_count": 0,
      "outputs": [
        {
          "output_type": "execute_result",
          "data": {
            "text/plain": [
              "[(2, 2390, 4, 34, 319000),\n",
              " (9, 3000, 4, 75, 539900),\n",
              " (10, 1985, 4, 61, 299900),\n",
              " (15, 1940, 4, 7, 239999),\n",
              " (20, 2300, 4, 77, 449900),\n",
              " (23, 2609, 4, 5, 499998),\n",
              " (24, 3031, 4, 21, 599000),\n",
              " (28, 1962, 4, 53, 259900),\n",
              " (37, 2040, 4, 75, 314900),\n",
              " (39, 1811, 4, 24, 285900),\n",
              " (42, 2132, 4, 28, 345000),\n",
              " (43, 4215, 4, 66, 549000),\n",
              " (44, 2162, 4, 43, 287000),\n",
              " (47, 2567, 4, 57, 314000),\n",
              " (50, 1852, 4, 64, 299900)]"
            ]
          },
          "metadata": {
            "tags": []
          },
          "execution_count": 14
        }
      ]
    },
    {
      "metadata": {
        "id": "qh348UF_lJQb",
        "colab_type": "text"
      },
      "cell_type": "markdown",
      "source": [
        "Run a query to show the effect of the DELETE command that was executed above (HINT: You can use the WHERE clause to reduce the size of the rowset to the region of interest):"
      ]
    },
    {
      "metadata": {
        "id": "kHXR6EJklJQc",
        "colab_type": "code",
        "outputId": "5a4d893a-8b11-48f5-e4e4-6ad3e2420e04",
        "colab": {}
      },
      "cell_type": "code",
      "source": [
        "# ANSWER\n",
        "results = c.execute(\"SELECT * FROM houses WHERE field1 >= 50 AND field1 < 59\")\n",
        "results.fetchall()"
      ],
      "execution_count": 0,
      "outputs": [
        {
          "output_type": "execute_result",
          "data": {
            "text/plain": [
              "[(50, 1852, 4, 64, 299900), (51, 1203, 3, 11, 239500)]"
            ]
          },
          "metadata": {
            "tags": []
          },
          "execution_count": 12
        }
      ]
    },
    {
      "metadata": {
        "id": "sTNiWQB2lJQg",
        "colab_type": "text"
      },
      "cell_type": "markdown",
      "source": [
        "Run a query to calculate the average floor area and price of each size of house (i.e. by number of bedrooms):"
      ]
    },
    {
      "metadata": {
        "id": "nkFpYIbVlJQg",
        "colab_type": "code",
        "outputId": "a56eebd4-9f0b-483d-9e30-4305de3e25b6",
        "colab": {}
      },
      "cell_type": "code",
      "source": [
        "#ANSWER\n",
        "results = c.execute(\"SELECT bdrms, AVG(sqft) AS avg_sqft, AVG(price) AS avg_price FROM houses GROUP BY bdrms\")\n",
        "results.fetchall()"
      ],
      "execution_count": 0,
      "outputs": [
        {
          "output_type": "execute_result",
          "data": {
            "text/plain": [
              "[(1, 1000.0, 169900.0),\n",
              " (2, 1496.5, 280866.6666666667),\n",
              " (3, 1827.5555555555557, 322892.51851851854),\n",
              " (4, 2399.733333333333, 373553.13333333336),\n",
              " (5, 4239.0, 659450.0)]"
            ]
          },
          "metadata": {
            "tags": []
          },
          "execution_count": 13
        }
      ]
    },
    {
      "metadata": {
        "id": "7K9VDroqlJQi",
        "colab_type": "text"
      },
      "cell_type": "markdown",
      "source": [
        "### Pandas connector\n",
        "\n",
        "While databases provide many analytical capabilities, at some point we may need to pull data into Python for more flexible processing. Large, fixed operations would be more efficient in a database, but Pandas allows for interactive processing.\n",
        "\n",
        "For example, if you want to aggregate nightly log-ins or sales for a report or dashboard, this would be a fixed operation on a large dataset. These computations would run more efficiently in the database system itself.\n",
        "\n",
        "However, if we wanted to model the patterns of login behaviour or factors driving sales, then we would import the data to Python where we could use its simple interfaces to powerful analytic libraries."
      ]
    },
    {
      "metadata": {
        "id": "tvI0P-r8lJQj",
        "colab_type": "code",
        "colab": {}
      },
      "cell_type": "code",
      "source": [
        "import pandas as pd\n",
        "from pandas.io import sql"
      ],
      "execution_count": 0,
      "outputs": []
    },
    {
      "metadata": {
        "id": "gBz6pxPFlJQk",
        "colab_type": "text"
      },
      "cell_type": "markdown",
      "source": [
        "Pandas can connect to most relational databases. In this demonstration, we will create and connect to a SQLite database."
      ]
    },
    {
      "metadata": {
        "id": "3dZYouA_lJQk",
        "colab_type": "text"
      },
      "cell_type": "markdown",
      "source": [
        "### Writing data into a database\n",
        "\n",
        "Data in Pandas can be loaded into a relational database. \n",
        "\n",
        "If the data table is not too large, we can load all of it into a Pandas DataFrame:"
      ]
    },
    {
      "metadata": {
        "id": "GfjtD2iylJQl",
        "colab_type": "code",
        "outputId": "efe6eddd-8fae-4ad3-d8b9-c34c3444a015",
        "colab": {}
      },
      "cell_type": "code",
      "source": [
        "# Nb. Use low_memory=False to ensure that type inference does not fail due to buffered processing of input:\n",
        "data = pd.read_csv('dat/housing-data.csv', low_memory = False)\n",
        "data.head()"
      ],
      "execution_count": 0,
      "outputs": [
        {
          "output_type": "execute_result",
          "data": {
            "text/html": [
              "<div>\n",
              "<style scoped>\n",
              "    .dataframe tbody tr th:only-of-type {\n",
              "        vertical-align: middle;\n",
              "    }\n",
              "\n",
              "    .dataframe tbody tr th {\n",
              "        vertical-align: top;\n",
              "    }\n",
              "\n",
              "    .dataframe thead th {\n",
              "        text-align: right;\n",
              "    }\n",
              "</style>\n",
              "<table border=\"1\" class=\"dataframe\">\n",
              "  <thead>\n",
              "    <tr style=\"text-align: right;\">\n",
              "      <th></th>\n",
              "      <th>sqft</th>\n",
              "      <th>bdrms</th>\n",
              "      <th>age</th>\n",
              "      <th>price</th>\n",
              "    </tr>\n",
              "  </thead>\n",
              "  <tbody>\n",
              "    <tr>\n",
              "      <th>0</th>\n",
              "      <td>2104</td>\n",
              "      <td>3</td>\n",
              "      <td>70</td>\n",
              "      <td>399900</td>\n",
              "    </tr>\n",
              "    <tr>\n",
              "      <th>1</th>\n",
              "      <td>1600</td>\n",
              "      <td>3</td>\n",
              "      <td>28</td>\n",
              "      <td>329900</td>\n",
              "    </tr>\n",
              "    <tr>\n",
              "      <th>2</th>\n",
              "      <td>2400</td>\n",
              "      <td>3</td>\n",
              "      <td>44</td>\n",
              "      <td>369000</td>\n",
              "    </tr>\n",
              "    <tr>\n",
              "      <th>3</th>\n",
              "      <td>1416</td>\n",
              "      <td>2</td>\n",
              "      <td>49</td>\n",
              "      <td>232000</td>\n",
              "    </tr>\n",
              "    <tr>\n",
              "      <th>4</th>\n",
              "      <td>3000</td>\n",
              "      <td>4</td>\n",
              "      <td>75</td>\n",
              "      <td>539900</td>\n",
              "    </tr>\n",
              "  </tbody>\n",
              "</table>\n",
              "</div>"
            ],
            "text/plain": [
              "   sqft  bdrms  age   price\n",
              "0  2104      3   70  399900\n",
              "1  1600      3   28  329900\n",
              "2  2400      3   44  369000\n",
              "3  1416      2   49  232000\n",
              "4  3000      4   75  539900"
            ]
          },
          "metadata": {
            "tags": []
          },
          "execution_count": 16
        }
      ]
    },
    {
      "metadata": {
        "id": "3fD3CvPRlJQo",
        "colab_type": "text"
      },
      "cell_type": "markdown",
      "source": [
        "We can move data in the opposite direction -- from a DataFrame to a database -- using the `to_sql` command, similar to the `to_csv` command.\n",
        "\n",
        "`to_sql` takes as arguments:\n",
        "    - `name`, the table name to create\n",
        "    - `con`, a connection to a database\n",
        "    - `index`, whether to input the index column\n",
        "    - `schema`, if we want to write a custom schema for the new table\n",
        "    - `if_exists`, what to do if the table already exists. We can overwrite it, add to it, or fail"
      ]
    },
    {
      "metadata": {
        "id": "Q2W5ZbrHlJQo",
        "colab_type": "text"
      },
      "cell_type": "markdown",
      "source": [
        "This copies our `data` DataFrame to a sqlite3 table called `houses_pandas`:"
      ]
    },
    {
      "metadata": {
        "id": "BoyMHydFlJQp",
        "colab_type": "code",
        "colab": {}
      },
      "cell_type": "code",
      "source": [
        "data.to_sql('houses_pandas', con = conn, if_exists = 'replace', index = False)"
      ],
      "execution_count": 0,
      "outputs": []
    },
    {
      "metadata": {
        "id": "WqPJA5l_lJQr",
        "colab_type": "text"
      },
      "cell_type": "markdown",
      "source": [
        "Run a query to get the average price of each house size from this table:"
      ]
    },
    {
      "metadata": {
        "id": "w5Uf5INrlJQr",
        "colab_type": "code",
        "outputId": "e9adb2a3-07d6-4603-dfe5-4406020f11d4",
        "colab": {}
      },
      "cell_type": "code",
      "source": [
        "#ANSWER\n",
        "c.execute('SELECT bdrms, AVG(price) FROM houses_pandas GROUP BY bdrms').fetchall()"
      ],
      "execution_count": 0,
      "outputs": [
        {
          "output_type": "execute_result",
          "data": {
            "text/plain": [
              "[(1, 169900.0),\n",
              " (2, 280866.6666666667),\n",
              " (3, 326403.92),\n",
              " (4, 377449.78571428574),\n",
              " (5, 699900.0)]"
            ]
          },
          "metadata": {
            "tags": []
          },
          "execution_count": 19
        }
      ]
    },
    {
      "metadata": {
        "id": "CJtvJ5EylJQu",
        "colab_type": "text"
      },
      "cell_type": "markdown",
      "source": [
        "## Discussion\n",
        "\n",
        "**Scenarios for using Pandas with SQLite**\n",
        "\n",
        "1. When would you want to use Pandas on a dataset before storing it in a database?\n",
        "\n",
        "2. When would you want to use Pandas on a dataset retrieved from a database?"
      ]
    },
    {
      "metadata": {
        "id": "YZ7J3ZyUlJQu",
        "colab_type": "text"
      },
      "cell_type": "markdown",
      "source": [
        "<a name=\"guided-practice\"></a>\n",
        "\n",
        "\n",
        "# Reference: SQL Syntax \n",
        "\n",
        "\n",
        "#### SELECT Statement\n",
        "Every query should start with `SELECT`.  `SELECT` is followed by the names of the columns in the output.\n",
        "\n",
        "`SELECT` is always paired with `FROM`, and `FROM` identifies the table to retrieve data from.\n",
        "\n",
        "```sql\n",
        "SELECT\n",
        "<columns>\n",
        "FROM\n",
        "<table>\n",
        "```\n",
        "\n",
        "`SELECT *` denotes returns *all* of the columns.\n",
        "\n",
        "Housing Data example:\n",
        "```sql\n",
        "SELECT\n",
        "sqft, bdrms\n",
        "FROM houses_pandas;\n",
        "```\n",
        "\n",
        "**Check:** Write a query that returns the `sqft`, `bdrms` and `price`.\n",
        "\n",
        "```sql\n",
        "SELECT\n",
        "sqft, bdrms, price\n",
        "FROM houses_pandas;\n",
        "```\n",
        "\n",
        "#### WHERE Clause\n",
        "`WHERE` is used to filter table to a specific criteria and follows the `FROM` clause.\n",
        "\n",
        "```sql\n",
        "SELECT\n",
        "<columns>\n",
        "FROM\n",
        "<table>\n",
        "WHERE\n",
        "<condition>\n",
        "```\n",
        "Example:\n",
        "```sql\n",
        "SELECT\n",
        "sqft, bdrms, age, price\n",
        "FROM houses_pandas\n",
        "WHERE bdrms = 2 and price < 250000;\n",
        "```\n",
        "\n",
        "The condition is effectively a row filter; rows that match the condition will be included in the rowset that is returned by the query.\n",
        "\n",
        "**Check:** Write a query that returns the `sqft`, `bdrms`, `age` for houses older than 60 years.\n",
        ">```sql\n",
        "SELECT\n",
        "sqft, bdrms, age\n",
        "FROM houses_pandas\n",
        "WHERE age > 60;\n",
        "```"
      ]
    },
    {
      "metadata": {
        "id": "u5hFKdhQlJQu",
        "colab_type": "text"
      },
      "cell_type": "markdown",
      "source": [
        "### AGGREGATIONS\n",
        "\n",
        "Aggregations (or aggregate functions) are functions where the values of multiple rows are grouped together as input on certain criteria to form a single value of more significant meaning or measurement such as a set, a bag or a list.\n",
        "\n",
        "Examples of aggregate funtions:\n",
        "\n",
        "- Average (i.e., arithmetic mean)\n",
        "- Count\n",
        "- Maximum\n",
        "- Minimum\n",
        "- Median\n",
        "- Mode\n",
        "- Sum\n",
        "\n",
        "In SQL they are performed in a `SELECT` statement as follows.\n",
        "\n",
        "```sql\n",
        "SELECT COUNT(price)\n",
        "FROM houses_pandas;\n",
        "```\n",
        "\n",
        "```sql\n",
        "SELECT AVG(sqft), MIN(price), MAX(price)\n",
        "FROM houses_pandas\n",
        "WHERE bdrms = 2;\n",
        "```"
      ]
    },
    {
      "metadata": {
        "id": "yNowUy0BlJQu",
        "colab_type": "text"
      },
      "cell_type": "markdown",
      "source": [
        "### JOINS\n",
        "\n",
        "Below is a link to a handy reference for SQL joins. In this chart joins are represented in terms of sets and venn diagrams. \n",
        "https://www.codeproject.com/Articles/33052/Visual-Representation-of-SQL-Joins\n",
        "\n",
        "Alternatively, remember the merge functionality of pandas.\n",
        "https://github.com/pandas-dev/pandas/blob/master/doc/cheatsheet/Pandas_Cheat_Sheet.pdf"
      ]
    },
    {
      "metadata": {
        "id": "Jp0fdXBelJQv",
        "colab_type": "text"
      },
      "cell_type": "markdown",
      "source": [
        "### ADDITIONAL RESOURCES\n",
        "\n",
        "- [sqlite3 home](http://www.sqlite.org)  \n",
        "- [sqlite3 Python documentation](https://docs.python.org/3/library/sqlite3.html)\n",
        "- [SQLite Python tutorial](http://sebastianraschka.com/Articles/2014_sqlite_in_python_tutorial.html)  \n",
        "- [SQL zoo](http://www.sqlzoo.net)  Great for learning syntax"
      ]
    },
    {
      "metadata": {
        "id": "UjQQ05Y2xBY0",
        "colab_type": "text"
      },
      "cell_type": "markdown",
      "source": [
        "\n",
        "\n",
        "\n",
        "\n",
        "> \n",
        "> \n",
        ">\n",
        ">\n",
        ">\n",
        ">\n",
        ">\n",
        "\n",
        "> \n",
        "\n",
        "\n",
        "> \n",
        "\n",
        "\n",
        "\n",
        "> \n",
        "\n",
        "\n",
        "\n",
        "\n",
        "\n",
        "\n",
        "\n",
        "\n",
        "\n",
        "\n"
      ]
    },
    {
      "metadata": {
        "id": "HE0GzefDyArt",
        "colab_type": "text"
      },
      "cell_type": "markdown",
      "source": [
        ">"
      ]
    },
    {
      "metadata": {
        "id": "9hdMa3Vnx6Aj",
        "colab_type": "text"
      },
      "cell_type": "markdown",
      "source": [
        ">\n",
        ">\n",
        ">\n"
      ]
    },
    {
      "metadata": {
        "id": "H6EyH-b4wGV5",
        "colab_type": "text"
      },
      "cell_type": "markdown",
      "source": [
        "\n",
        "> >>>>>\n",
        "\n",
        "\n",
        "---\n",
        "\n",
        "\n",
        "\n",
        "---\n",
        "\n",
        "\n",
        ">>>>>> > > © 2019 Data Science Institute of Australia\n",
        "\n",
        "\n",
        "---\n",
        "\n",
        "\n",
        "\n",
        "---\n",
        "\n",
        "\n",
        "\n",
        "\n",
        "\n",
        "\n",
        "\n"
      ]
    }
  ]
}